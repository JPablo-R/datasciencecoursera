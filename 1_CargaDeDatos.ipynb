{
  "nbformat": 4,
  "nbformat_minor": 0,
  "metadata": {
    "colab": {
      "name": "1-CargaDeDatos.ipynb",
      "provenance": [],
      "mount_file_id": "1ewwVsJaEGxebCf8Esd8UfalrHSduJ3SS",
      "authorship_tag": "ABX9TyNufX2jucX8SieJBTWKrNxM",
      "include_colab_link": true
    },
    "kernelspec": {
      "name": "python3",
      "display_name": "Python 3"
    }
  },
  "cells": [
    {
      "cell_type": "markdown",
      "metadata": {
        "id": "view-in-github",
        "colab_type": "text"
      },
      "source": [
        "<a href=\"https://colab.research.google.com/github/JPablo-R/datasciencecoursera/blob/master/1_CargaDeDatos.ipynb\" target=\"_parent\"><img src=\"https://colab.research.google.com/assets/colab-badge.svg\" alt=\"Open In Colab\"/></a>"
      ]
    },
    {
      "cell_type": "markdown",
      "metadata": {
        "id": "IuihMn6Xo3cN"
      },
      "source": [
        "# 1.-Carga de Datos\n",
        "Lo primero que se va a realizar para una tarea de analítica de datos es cargar los datos a nuestro Jupyter Notebook."
      ]
    },
    {
      "cell_type": "code",
      "metadata": {
        "id": "SMKlYw-MzGI6",
        "outputId": "bd539b13-c541-47da-d8d3-1ea62083a6b8",
        "colab": {
          "base_uri": "https://localhost:8080/",
          "height": 195
        }
      },
      "source": [
        "import pandas as pd\n",
        "Location = \"/content/drive/My Drive/Colab Notebooks/Datasets/smallgradesh.csv\"\n",
        "df = pd.read_csv(Location, header=None)\n",
        "df.head()"
      ],
      "execution_count": 1,
      "outputs": [
        {
          "output_type": "execute_result",
          "data": {
            "text/html": [
              "<div>\n",
              "<style scoped>\n",
              "    .dataframe tbody tr th:only-of-type {\n",
              "        vertical-align: middle;\n",
              "    }\n",
              "\n",
              "    .dataframe tbody tr th {\n",
              "        vertical-align: top;\n",
              "    }\n",
              "\n",
              "    .dataframe thead th {\n",
              "        text-align: right;\n",
              "    }\n",
              "</style>\n",
              "<table border=\"1\" class=\"dataframe\">\n",
              "  <thead>\n",
              "    <tr style=\"text-align: right;\">\n",
              "      <th></th>\n",
              "      <th>0</th>\n",
              "      <th>1</th>\n",
              "    </tr>\n",
              "  </thead>\n",
              "  <tbody>\n",
              "    <tr>\n",
              "      <th>0</th>\n",
              "      <td>Name</td>\n",
              "      <td>Grade</td>\n",
              "    </tr>\n",
              "    <tr>\n",
              "      <th>1</th>\n",
              "      <td>Marcia</td>\n",
              "      <td>82.4</td>\n",
              "    </tr>\n",
              "    <tr>\n",
              "      <th>2</th>\n",
              "      <td>Kadeem</td>\n",
              "      <td>78.2</td>\n",
              "    </tr>\n",
              "    <tr>\n",
              "      <th>3</th>\n",
              "      <td>Nash</td>\n",
              "      <td>79.3</td>\n",
              "    </tr>\n",
              "    <tr>\n",
              "      <th>4</th>\n",
              "      <td>Noelani</td>\n",
              "      <td>83.2</td>\n",
              "    </tr>\n",
              "  </tbody>\n",
              "</table>\n",
              "</div>"
            ],
            "text/plain": [
              "         0      1\n",
              "0     Name  Grade\n",
              "1   Marcia   82.4\n",
              "2   Kadeem   78.2\n",
              "3     Nash   79.3\n",
              "4  Noelani   83.2"
            ]
          },
          "metadata": {
            "tags": []
          },
          "execution_count": 1
        }
      ]
    },
    {
      "cell_type": "markdown",
      "metadata": {
        "id": "TYa3tmSe1Lt6"
      },
      "source": [
        "Si nuestro dataset no incluye headers, podemos agregarlos posteriormente."
      ]
    },
    {
      "cell_type": "code",
      "metadata": {
        "id": "0JoWQAnb1aB8",
        "outputId": "78084461-9c07-4a4b-d775-2f0f0d70ee40",
        "colab": {
          "base_uri": "https://localhost:8080/",
          "height": 195
        }
      },
      "source": [
        "import pandas as pd\n",
        "location= \"/content/drive/My Drive/Colab Notebooks/Datasets/smallgradesh.csv\"\n",
        "\n",
        "df= pd.read_csv(Location, names= ['Names', 'Grades'])\n",
        "df.head()"
      ],
      "execution_count": 2,
      "outputs": [
        {
          "output_type": "execute_result",
          "data": {
            "text/html": [
              "<div>\n",
              "<style scoped>\n",
              "    .dataframe tbody tr th:only-of-type {\n",
              "        vertical-align: middle;\n",
              "    }\n",
              "\n",
              "    .dataframe tbody tr th {\n",
              "        vertical-align: top;\n",
              "    }\n",
              "\n",
              "    .dataframe thead th {\n",
              "        text-align: right;\n",
              "    }\n",
              "</style>\n",
              "<table border=\"1\" class=\"dataframe\">\n",
              "  <thead>\n",
              "    <tr style=\"text-align: right;\">\n",
              "      <th></th>\n",
              "      <th>Names</th>\n",
              "      <th>Grades</th>\n",
              "    </tr>\n",
              "  </thead>\n",
              "  <tbody>\n",
              "    <tr>\n",
              "      <th>0</th>\n",
              "      <td>Name</td>\n",
              "      <td>Grade</td>\n",
              "    </tr>\n",
              "    <tr>\n",
              "      <th>1</th>\n",
              "      <td>Marcia</td>\n",
              "      <td>82.4</td>\n",
              "    </tr>\n",
              "    <tr>\n",
              "      <th>2</th>\n",
              "      <td>Kadeem</td>\n",
              "      <td>78.2</td>\n",
              "    </tr>\n",
              "    <tr>\n",
              "      <th>3</th>\n",
              "      <td>Nash</td>\n",
              "      <td>79.3</td>\n",
              "    </tr>\n",
              "    <tr>\n",
              "      <th>4</th>\n",
              "      <td>Noelani</td>\n",
              "      <td>83.2</td>\n",
              "    </tr>\n",
              "  </tbody>\n",
              "</table>\n",
              "</div>"
            ],
            "text/plain": [
              "     Names Grades\n",
              "0     Name  Grade\n",
              "1   Marcia   82.4\n",
              "2   Kadeem   78.2\n",
              "3     Nash   79.3\n",
              "4  Noelani   83.2"
            ]
          },
          "metadata": {
            "tags": []
          },
          "execution_count": 2
        }
      ]
    },
    {
      "cell_type": "code",
      "metadata": {
        "id": "t9HeuxSI4xpB"
      },
      "source": [
        ""
      ],
      "execution_count": 2,
      "outputs": []
    },
    {
      "cell_type": "markdown",
      "metadata": {
        "id": "fmszLdlf4vZs"
      },
      "source": [
        "Cuando el dataframe no tiene headers, se puede utilizar df.columns"
      ]
    },
    {
      "cell_type": "code",
      "metadata": {
        "id": "-5q04s0M3M1C",
        "outputId": "3e5ee820-f65d-441f-fbe2-3fe94eba86c7",
        "colab": {
          "base_uri": "https://localhost:8080/",
          "height": 195
        }
      },
      "source": [
        "df.columns= ['Names', 'Grades']\n",
        "df.head()\n"
      ],
      "execution_count": 3,
      "outputs": [
        {
          "output_type": "execute_result",
          "data": {
            "text/html": [
              "<div>\n",
              "<style scoped>\n",
              "    .dataframe tbody tr th:only-of-type {\n",
              "        vertical-align: middle;\n",
              "    }\n",
              "\n",
              "    .dataframe tbody tr th {\n",
              "        vertical-align: top;\n",
              "    }\n",
              "\n",
              "    .dataframe thead th {\n",
              "        text-align: right;\n",
              "    }\n",
              "</style>\n",
              "<table border=\"1\" class=\"dataframe\">\n",
              "  <thead>\n",
              "    <tr style=\"text-align: right;\">\n",
              "      <th></th>\n",
              "      <th>Names</th>\n",
              "      <th>Grades</th>\n",
              "    </tr>\n",
              "  </thead>\n",
              "  <tbody>\n",
              "    <tr>\n",
              "      <th>0</th>\n",
              "      <td>Name</td>\n",
              "      <td>Grade</td>\n",
              "    </tr>\n",
              "    <tr>\n",
              "      <th>1</th>\n",
              "      <td>Marcia</td>\n",
              "      <td>82.4</td>\n",
              "    </tr>\n",
              "    <tr>\n",
              "      <th>2</th>\n",
              "      <td>Kadeem</td>\n",
              "      <td>78.2</td>\n",
              "    </tr>\n",
              "    <tr>\n",
              "      <th>3</th>\n",
              "      <td>Nash</td>\n",
              "      <td>79.3</td>\n",
              "    </tr>\n",
              "    <tr>\n",
              "      <th>4</th>\n",
              "      <td>Noelani</td>\n",
              "      <td>83.2</td>\n",
              "    </tr>\n",
              "  </tbody>\n",
              "</table>\n",
              "</div>"
            ],
            "text/plain": [
              "     Names Grades\n",
              "0     Name  Grade\n",
              "1   Marcia   82.4\n",
              "2   Kadeem   78.2\n",
              "3     Nash   79.3\n",
              "4  Noelani   83.2"
            ]
          },
          "metadata": {
            "tags": []
          },
          "execution_count": 3
        }
      ]
    },
    {
      "cell_type": "markdown",
      "metadata": {
        "id": "4eWs9leC4ObX"
      },
      "source": [
        "**Tarea**\n",
        "Importar los datos del censo de los EEUU para un estado en un dataframe. Los datos esta disponibles en: http://census.ire.org/data/bulkdata.html"
      ]
    },
    {
      "cell_type": "code",
      "metadata": {
        "id": "d4dfgTiF4ja0"
      },
      "source": [
        "# Aquí resuelve la tarea -------"
      ],
      "execution_count": 4,
      "outputs": []
    },
    {
      "cell_type": "markdown",
      "metadata": {
        "id": "U1QDQKiH5xFG"
      },
      "source": [
        "Es posible guardar los datos de un dataframe que esté en memoria a una hoja de calculo en formato CSV..."
      ]
    },
    {
      "cell_type": "code",
      "metadata": {
        "id": "KXbpP_6k57L3",
        "outputId": "483c02ab-54c5-4601-e62e-b76bc90ca765",
        "colab": {
          "base_uri": "https://localhost:8080/",
          "height": 195
        }
      },
      "source": [
        "import pandas as pd\n",
        "names= ['Bob', 'Jessica', 'Mary', 'John', 'Mel']\n",
        "grades= [76,95,77,78,99]\n",
        "\n",
        "GradeList= zip(names, grades)\n",
        "df=pd.DataFrame(data= GradeList, columns= ['Names', 'Grades'])\n",
        "df.to_csv('/content/drive/My Drive/Colab Notebooks/Output/studentgrades.csv', index=False, header=False)\n",
        "df.head()"
      ],
      "execution_count": 5,
      "outputs": [
        {
          "output_type": "execute_result",
          "data": {
            "text/html": [
              "<div>\n",
              "<style scoped>\n",
              "    .dataframe tbody tr th:only-of-type {\n",
              "        vertical-align: middle;\n",
              "    }\n",
              "\n",
              "    .dataframe tbody tr th {\n",
              "        vertical-align: top;\n",
              "    }\n",
              "\n",
              "    .dataframe thead th {\n",
              "        text-align: right;\n",
              "    }\n",
              "</style>\n",
              "<table border=\"1\" class=\"dataframe\">\n",
              "  <thead>\n",
              "    <tr style=\"text-align: right;\">\n",
              "      <th></th>\n",
              "      <th>Names</th>\n",
              "      <th>Grades</th>\n",
              "    </tr>\n",
              "  </thead>\n",
              "  <tbody>\n",
              "    <tr>\n",
              "      <th>0</th>\n",
              "      <td>Bob</td>\n",
              "      <td>76</td>\n",
              "    </tr>\n",
              "    <tr>\n",
              "      <th>1</th>\n",
              "      <td>Jessica</td>\n",
              "      <td>95</td>\n",
              "    </tr>\n",
              "    <tr>\n",
              "      <th>2</th>\n",
              "      <td>Mary</td>\n",
              "      <td>77</td>\n",
              "    </tr>\n",
              "    <tr>\n",
              "      <th>3</th>\n",
              "      <td>John</td>\n",
              "      <td>78</td>\n",
              "    </tr>\n",
              "    <tr>\n",
              "      <th>4</th>\n",
              "      <td>Mel</td>\n",
              "      <td>99</td>\n",
              "    </tr>\n",
              "  </tbody>\n",
              "</table>\n",
              "</div>"
            ],
            "text/plain": [
              "     Names  Grades\n",
              "0      Bob      76\n",
              "1  Jessica      95\n",
              "2     Mary      77\n",
              "3     John      78\n",
              "4      Mel      99"
            ]
          },
          "metadata": {
            "tags": []
          },
          "execution_count": 5
        }
      ]
    },
    {
      "cell_type": "markdown",
      "metadata": {
        "id": "y_dG5BnE9VAQ"
      },
      "source": [
        "**Tarea**\n",
        "Exportar a un archivo csv el **listado 2-8**\n"
      ]
    },
    {
      "cell_type": "code",
      "metadata": {
        "id": "q2ttcC3O9fNs"
      },
      "source": [
        "#Capturar aquí el listado 2-8 y resolver la exportación a un archivo csv"
      ],
      "execution_count": 6,
      "outputs": []
    },
    {
      "cell_type": "code",
      "metadata": {
        "id": "s4EnKrRS-ZOt",
        "outputId": "50b3bc36-106b-4db0-dd97-520305753b2b",
        "colab": {
          "base_uri": "https://localhost:8080/",
          "height": 195
        }
      },
      "source": [
        "import pandas as pd\n",
        "names = ['Bob','Jessica','Mary','John','Mel']\n",
        "grades = [76,95,77,78,99]\n",
        "bsdegrees = [1,1,0,0,1]\n",
        "msdegrees = [2,1,0,0,0]\n",
        "phddegrees = [0,1,0,0,0]\n",
        "Degrees = zip(names,grades,bsdegrees,msdegrees,phddegrees)\n",
        "columns = ['Names','Grades','BS','MS','PhD']\n",
        "df = pd.DataFrame(data = Degrees, columns=columns)\n",
        "df.to_csv('/content/drive/My Drive/Colab Notebooks/Output/listado2-8.csv', index=False, header=False)\n",
        "df.head()"
      ],
      "execution_count": 8,
      "outputs": [
        {
          "output_type": "execute_result",
          "data": {
            "text/html": [
              "<div>\n",
              "<style scoped>\n",
              "    .dataframe tbody tr th:only-of-type {\n",
              "        vertical-align: middle;\n",
              "    }\n",
              "\n",
              "    .dataframe tbody tr th {\n",
              "        vertical-align: top;\n",
              "    }\n",
              "\n",
              "    .dataframe thead th {\n",
              "        text-align: right;\n",
              "    }\n",
              "</style>\n",
              "<table border=\"1\" class=\"dataframe\">\n",
              "  <thead>\n",
              "    <tr style=\"text-align: right;\">\n",
              "      <th></th>\n",
              "      <th>Names</th>\n",
              "      <th>Grades</th>\n",
              "      <th>BS</th>\n",
              "      <th>MS</th>\n",
              "      <th>PhD</th>\n",
              "    </tr>\n",
              "  </thead>\n",
              "  <tbody>\n",
              "    <tr>\n",
              "      <th>0</th>\n",
              "      <td>Bob</td>\n",
              "      <td>76</td>\n",
              "      <td>1</td>\n",
              "      <td>2</td>\n",
              "      <td>0</td>\n",
              "    </tr>\n",
              "    <tr>\n",
              "      <th>1</th>\n",
              "      <td>Jessica</td>\n",
              "      <td>95</td>\n",
              "      <td>1</td>\n",
              "      <td>1</td>\n",
              "      <td>1</td>\n",
              "    </tr>\n",
              "    <tr>\n",
              "      <th>2</th>\n",
              "      <td>Mary</td>\n",
              "      <td>77</td>\n",
              "      <td>0</td>\n",
              "      <td>0</td>\n",
              "      <td>0</td>\n",
              "    </tr>\n",
              "    <tr>\n",
              "      <th>3</th>\n",
              "      <td>John</td>\n",
              "      <td>78</td>\n",
              "      <td>0</td>\n",
              "      <td>0</td>\n",
              "      <td>0</td>\n",
              "    </tr>\n",
              "    <tr>\n",
              "      <th>4</th>\n",
              "      <td>Mel</td>\n",
              "      <td>99</td>\n",
              "      <td>1</td>\n",
              "      <td>0</td>\n",
              "      <td>0</td>\n",
              "    </tr>\n",
              "  </tbody>\n",
              "</table>\n",
              "</div>"
            ],
            "text/plain": [
              "     Names  Grades  BS  MS  PhD\n",
              "0      Bob      76   1   2    0\n",
              "1  Jessica      95   1   1    1\n",
              "2     Mary      77   0   0    0\n",
              "3     John      78   0   0    0\n",
              "4      Mel      99   1   0    0"
            ]
          },
          "metadata": {
            "tags": []
          },
          "execution_count": 8
        }
      ]
    },
    {
      "cell_type": "markdown",
      "metadata": {
        "id": "IWrnOmqqkcU3"
      },
      "source": [
        "**Cargando datos a partir de Excel**"
      ]
    },
    {
      "cell_type": "code",
      "metadata": {
        "id": "QLgfavFvkiJp",
        "outputId": "1f2969ee-fdb0-470e-f192-0e6ba1745681",
        "colab": {
          "base_uri": "https://localhost:8080/",
          "height": 279
        }
      },
      "source": [
        "import pandas as pd\n",
        "Location = \"/content/drive/My Drive/Colab Notebooks/Datasets/gradedata.xlsx\"\n",
        "df = pd.read_excel(Location)\n",
        "df.head()"
      ],
      "execution_count": 10,
      "outputs": [
        {
          "output_type": "execute_result",
          "data": {
            "text/html": [
              "<div>\n",
              "<style scoped>\n",
              "    .dataframe tbody tr th:only-of-type {\n",
              "        vertical-align: middle;\n",
              "    }\n",
              "\n",
              "    .dataframe tbody tr th {\n",
              "        vertical-align: top;\n",
              "    }\n",
              "\n",
              "    .dataframe thead th {\n",
              "        text-align: right;\n",
              "    }\n",
              "</style>\n",
              "<table border=\"1\" class=\"dataframe\">\n",
              "  <thead>\n",
              "    <tr style=\"text-align: right;\">\n",
              "      <th></th>\n",
              "      <th>fname</th>\n",
              "      <th>lname</th>\n",
              "      <th>gender</th>\n",
              "      <th>age</th>\n",
              "      <th>exercise</th>\n",
              "      <th>hours</th>\n",
              "      <th>grade</th>\n",
              "      <th>address</th>\n",
              "    </tr>\n",
              "  </thead>\n",
              "  <tbody>\n",
              "    <tr>\n",
              "      <th>0</th>\n",
              "      <td>Marcia</td>\n",
              "      <td>Pugh</td>\n",
              "      <td>female</td>\n",
              "      <td>17</td>\n",
              "      <td>3</td>\n",
              "      <td>10</td>\n",
              "      <td>82.4</td>\n",
              "      <td>7379 Highland Rd. , Dublin, GA 31021</td>\n",
              "    </tr>\n",
              "    <tr>\n",
              "      <th>1</th>\n",
              "      <td>Kadeem</td>\n",
              "      <td>Morrison</td>\n",
              "      <td>male</td>\n",
              "      <td>18</td>\n",
              "      <td>4</td>\n",
              "      <td>4</td>\n",
              "      <td>78.2</td>\n",
              "      <td>8 Bayport St. , Honolulu, HI 96815</td>\n",
              "    </tr>\n",
              "    <tr>\n",
              "      <th>2</th>\n",
              "      <td>Nash</td>\n",
              "      <td>Powell</td>\n",
              "      <td>male</td>\n",
              "      <td>18</td>\n",
              "      <td>5</td>\n",
              "      <td>9</td>\n",
              "      <td>79.3</td>\n",
              "      <td>Encino, CA 91316, 3 Lilac Street</td>\n",
              "    </tr>\n",
              "    <tr>\n",
              "      <th>3</th>\n",
              "      <td>Noelani</td>\n",
              "      <td>Wagner</td>\n",
              "      <td>female</td>\n",
              "      <td>14</td>\n",
              "      <td>2</td>\n",
              "      <td>7</td>\n",
              "      <td>83.2</td>\n",
              "      <td>Riverview, FL 33569, 9998 North Smith Dr.</td>\n",
              "    </tr>\n",
              "    <tr>\n",
              "      <th>4</th>\n",
              "      <td>Noelani</td>\n",
              "      <td>Cherry</td>\n",
              "      <td>female</td>\n",
              "      <td>18</td>\n",
              "      <td>4</td>\n",
              "      <td>15</td>\n",
              "      <td>87.4</td>\n",
              "      <td>97 SE. Ocean Street , Bethlehem, PA 18015</td>\n",
              "    </tr>\n",
              "  </tbody>\n",
              "</table>\n",
              "</div>"
            ],
            "text/plain": [
              "     fname     lname  ... grade                                     address\n",
              "0   Marcia      Pugh  ...  82.4        7379 Highland Rd. , Dublin, GA 31021\n",
              "1   Kadeem  Morrison  ...  78.2          8 Bayport St. , Honolulu, HI 96815\n",
              "2     Nash    Powell  ...  79.3           Encino, CA 91316, 3 Lilac Street \n",
              "3  Noelani    Wagner  ...  83.2  Riverview, FL 33569, 9998 North Smith Dr. \n",
              "4  Noelani    Cherry  ...  87.4   97 SE. Ocean Street , Bethlehem, PA 18015\n",
              "\n",
              "[5 rows x 8 columns]"
            ]
          },
          "metadata": {
            "tags": []
          },
          "execution_count": 10
        }
      ]
    },
    {
      "cell_type": "code",
      "metadata": {
        "id": "A_zqcnrvlV5g",
        "outputId": "d1a11e00-0a51-45da-8383-f5004d23e710",
        "colab": {
          "base_uri": "https://localhost:8080/",
          "height": 229
        }
      },
      "source": [
        "df.columns = ['first','last','sex','age','exer','hrs','grd','addr']\n",
        "df.head()"
      ],
      "execution_count": 12,
      "outputs": [
        {
          "output_type": "execute_result",
          "data": {
            "text/html": [
              "<div>\n",
              "<style scoped>\n",
              "    .dataframe tbody tr th:only-of-type {\n",
              "        vertical-align: middle;\n",
              "    }\n",
              "\n",
              "    .dataframe tbody tr th {\n",
              "        vertical-align: top;\n",
              "    }\n",
              "\n",
              "    .dataframe thead th {\n",
              "        text-align: right;\n",
              "    }\n",
              "</style>\n",
              "<table border=\"1\" class=\"dataframe\">\n",
              "  <thead>\n",
              "    <tr style=\"text-align: right;\">\n",
              "      <th></th>\n",
              "      <th>first</th>\n",
              "      <th>last</th>\n",
              "      <th>sex</th>\n",
              "      <th>age</th>\n",
              "      <th>exer</th>\n",
              "      <th>hrs</th>\n",
              "      <th>grd</th>\n",
              "      <th>addr</th>\n",
              "    </tr>\n",
              "  </thead>\n",
              "  <tbody>\n",
              "    <tr>\n",
              "      <th>0</th>\n",
              "      <td>Marcia</td>\n",
              "      <td>Pugh</td>\n",
              "      <td>female</td>\n",
              "      <td>17</td>\n",
              "      <td>3</td>\n",
              "      <td>10</td>\n",
              "      <td>82.4</td>\n",
              "      <td>7379 Highland Rd. , Dublin, GA 31021</td>\n",
              "    </tr>\n",
              "    <tr>\n",
              "      <th>1</th>\n",
              "      <td>Kadeem</td>\n",
              "      <td>Morrison</td>\n",
              "      <td>male</td>\n",
              "      <td>18</td>\n",
              "      <td>4</td>\n",
              "      <td>4</td>\n",
              "      <td>78.2</td>\n",
              "      <td>8 Bayport St. , Honolulu, HI 96815</td>\n",
              "    </tr>\n",
              "    <tr>\n",
              "      <th>2</th>\n",
              "      <td>Nash</td>\n",
              "      <td>Powell</td>\n",
              "      <td>male</td>\n",
              "      <td>18</td>\n",
              "      <td>5</td>\n",
              "      <td>9</td>\n",
              "      <td>79.3</td>\n",
              "      <td>Encino, CA 91316, 3 Lilac Street</td>\n",
              "    </tr>\n",
              "    <tr>\n",
              "      <th>3</th>\n",
              "      <td>Noelani</td>\n",
              "      <td>Wagner</td>\n",
              "      <td>female</td>\n",
              "      <td>14</td>\n",
              "      <td>2</td>\n",
              "      <td>7</td>\n",
              "      <td>83.2</td>\n",
              "      <td>Riverview, FL 33569, 9998 North Smith Dr.</td>\n",
              "    </tr>\n",
              "    <tr>\n",
              "      <th>4</th>\n",
              "      <td>Noelani</td>\n",
              "      <td>Cherry</td>\n",
              "      <td>female</td>\n",
              "      <td>18</td>\n",
              "      <td>4</td>\n",
              "      <td>15</td>\n",
              "      <td>87.4</td>\n",
              "      <td>97 SE. Ocean Street , Bethlehem, PA 18015</td>\n",
              "    </tr>\n",
              "  </tbody>\n",
              "</table>\n",
              "</div>"
            ],
            "text/plain": [
              "     first      last  ...   grd                                        addr\n",
              "0   Marcia      Pugh  ...  82.4        7379 Highland Rd. , Dublin, GA 31021\n",
              "1   Kadeem  Morrison  ...  78.2          8 Bayport St. , Honolulu, HI 96815\n",
              "2     Nash    Powell  ...  79.3           Encino, CA 91316, 3 Lilac Street \n",
              "3  Noelani    Wagner  ...  83.2  Riverview, FL 33569, 9998 North Smith Dr. \n",
              "4  Noelani    Cherry  ...  87.4   97 SE. Ocean Street , Bethlehem, PA 18015\n",
              "\n",
              "[5 rows x 8 columns]"
            ]
          },
          "metadata": {
            "tags": []
          },
          "execution_count": 12
        }
      ]
    },
    {
      "cell_type": "markdown",
      "metadata": {
        "id": "pPgs483vl-9L"
      },
      "source": [
        "**Tarea: Cargar un archivo de Excel del censo de US**"
      ]
    },
    {
      "cell_type": "markdown",
      "metadata": {
        "id": "C5FWMH-Rm0I9"
      },
      "source": [
        "**Guardar un Dataframe en Excel**"
      ]
    },
    {
      "cell_type": "code",
      "metadata": {
        "id": "SqDq0xrNoTMR",
        "outputId": "78ca8fbd-a593-4aa2-ae19-ce3144df9e4d",
        "colab": {
          "base_uri": "https://localhost:8080/",
          "height": 54
        }
      },
      "source": [
        "! pip install XlsxWriter"
      ],
      "execution_count": 35,
      "outputs": [
        {
          "output_type": "stream",
          "text": [
            "Requirement already satisfied: XlsxWriter in /usr/local/lib/python3.6/dist-packages (1.3.6)\n"
          ],
          "name": "stdout"
        }
      ]
    },
    {
      "cell_type": "code",
      "metadata": {
        "id": "mgpWWccXm5ef"
      },
      "source": [
        "import pandas as pd\n",
        "import xlsxwriter\n",
        "names = ['Bob','Jessica','Mary','John','Mel']\n",
        "grades = [76,95,77,78,99]\n",
        "\n",
        "GradeList = zip(names,grades)\n",
        "\n",
        "df = pd.DataFrame(data = GradeList, columns=['Names','Grades'])\n",
        "\n",
        "writer = pd.ExcelWriter('/content/drive/My Drive/Colab Notebooks/Output/dataframe.xlsx', engine='xlsxwriter')\n",
        "\n",
        "df.to_excel(writer, sheet_name='Sheet1')\n",
        "writer.save()"
      ],
      "execution_count": 37,
      "outputs": []
    },
    {
      "cell_type": "markdown",
      "metadata": {
        "id": "uRQERG9Tqn5j"
      },
      "source": [
        "**Tarea: Exportar el sigiuente codigo:**\n",
        "import pandas as pd\n",
        "names = ['Nike','Adidas','New Balance','Puma',’Reebok’]\n",
        "grades = [176,59,47,38,99]\n",
        "PriceList = zip(names,prices)\n",
        "df = pd.DataFrame(data = PriceList, columns=['Names',’Prices’])"
      ]
    },
    {
      "cell_type": "markdown",
      "metadata": {
        "id": "TsC59-Sargww"
      },
      "source": [
        "**Combinando hojas de excel** "
      ]
    },
    {
      "cell_type": "code",
      "metadata": {
        "id": "dc8_8GYTrgGn",
        "outputId": "6b5fd8fc-aa23-4ac0-c11d-b5898bf63807",
        "colab": {
          "base_uri": "https://localhost:8080/",
          "height": 284
        }
      },
      "source": [
        "import pandas as pd\n",
        "import numpy as np\n",
        "all_data = pd.DataFrame()\n",
        "\n",
        "df = pd.read_excel(\"/content/drive/My Drive/Colab Notebooks/Datasets/data1.xlsx\")\n",
        "all_data = all_data.append(df,ignore_index=True)\n",
        "\n",
        "df = pd.read_excel(\"/content/drive/My Drive/Colab Notebooks/Datasets/data2.xlsx\")\n",
        "all_data = all_data.append(df,ignore_index=True)\n",
        "\n",
        "df = pd.read_excel(\"/content/drive/My Drive/Colab Notebooks/Datasets/data3.xlsx\")\n",
        "all_data = all_data.append(df,ignore_index=True)\n",
        "all_data.describe()"
      ],
      "execution_count": 34,
      "outputs": [
        {
          "output_type": "execute_result",
          "data": {
            "text/html": [
              "<div>\n",
              "<style scoped>\n",
              "    .dataframe tbody tr th:only-of-type {\n",
              "        vertical-align: middle;\n",
              "    }\n",
              "\n",
              "    .dataframe tbody tr th {\n",
              "        vertical-align: top;\n",
              "    }\n",
              "\n",
              "    .dataframe thead th {\n",
              "        text-align: right;\n",
              "    }\n",
              "</style>\n",
              "<table border=\"1\" class=\"dataframe\">\n",
              "  <thead>\n",
              "    <tr style=\"text-align: right;\">\n",
              "      <th></th>\n",
              "      <th>age</th>\n",
              "      <th>grade</th>\n",
              "    </tr>\n",
              "  </thead>\n",
              "  <tbody>\n",
              "    <tr>\n",
              "      <th>count</th>\n",
              "      <td>300.000000</td>\n",
              "      <td>300.000000</td>\n",
              "    </tr>\n",
              "    <tr>\n",
              "      <th>mean</th>\n",
              "      <td>16.456667</td>\n",
              "      <td>82.923333</td>\n",
              "    </tr>\n",
              "    <tr>\n",
              "      <th>std</th>\n",
              "      <td>1.700321</td>\n",
              "      <td>10.544576</td>\n",
              "    </tr>\n",
              "    <tr>\n",
              "      <th>min</th>\n",
              "      <td>14.000000</td>\n",
              "      <td>65.000000</td>\n",
              "    </tr>\n",
              "    <tr>\n",
              "      <th>25%</th>\n",
              "      <td>15.000000</td>\n",
              "      <td>73.750000</td>\n",
              "    </tr>\n",
              "    <tr>\n",
              "      <th>50%</th>\n",
              "      <td>16.000000</td>\n",
              "      <td>82.000000</td>\n",
              "    </tr>\n",
              "    <tr>\n",
              "      <th>75%</th>\n",
              "      <td>18.000000</td>\n",
              "      <td>92.000000</td>\n",
              "    </tr>\n",
              "    <tr>\n",
              "      <th>max</th>\n",
              "      <td>19.000000</td>\n",
              "      <td>100.000000</td>\n",
              "    </tr>\n",
              "  </tbody>\n",
              "</table>\n",
              "</div>"
            ],
            "text/plain": [
              "              age       grade\n",
              "count  300.000000  300.000000\n",
              "mean    16.456667   82.923333\n",
              "std      1.700321   10.544576\n",
              "min     14.000000   65.000000\n",
              "25%     15.000000   73.750000\n",
              "50%     16.000000   82.000000\n",
              "75%     18.000000   92.000000\n",
              "max     19.000000  100.000000"
            ]
          },
          "metadata": {
            "tags": []
          },
          "execution_count": 34
        }
      ]
    },
    {
      "cell_type": "code",
      "metadata": {
        "id": "q8A4CZ0lt2_u",
        "outputId": "a3b6eead-f4d2-4977-ff15-87d502f9df04",
        "colab": {
          "base_uri": "https://localhost:8080/",
          "height": 284
        }
      },
      "source": [
        "import pandas as pd\n",
        "import numpy as np\n",
        "import glob\n",
        "all_data = pd.DataFrame()\n",
        "for f in glob.glob(\"/content/drive/My Drive/Colab Notebooks/Datasets/data*.xlsx\"):\n",
        " df = pd.read_excel(f)\n",
        " all_data = all_data.append(df,ignore_index=True)\n",
        "\n",
        "all_data.describe()"
      ],
      "execution_count": 38,
      "outputs": [
        {
          "output_type": "execute_result",
          "data": {
            "text/html": [
              "<div>\n",
              "<style scoped>\n",
              "    .dataframe tbody tr th:only-of-type {\n",
              "        vertical-align: middle;\n",
              "    }\n",
              "\n",
              "    .dataframe tbody tr th {\n",
              "        vertical-align: top;\n",
              "    }\n",
              "\n",
              "    .dataframe thead th {\n",
              "        text-align: right;\n",
              "    }\n",
              "</style>\n",
              "<table border=\"1\" class=\"dataframe\">\n",
              "  <thead>\n",
              "    <tr style=\"text-align: right;\">\n",
              "      <th></th>\n",
              "      <th>age</th>\n",
              "      <th>grade</th>\n",
              "    </tr>\n",
              "  </thead>\n",
              "  <tbody>\n",
              "    <tr>\n",
              "      <th>count</th>\n",
              "      <td>300.000000</td>\n",
              "      <td>300.000000</td>\n",
              "    </tr>\n",
              "    <tr>\n",
              "      <th>mean</th>\n",
              "      <td>16.456667</td>\n",
              "      <td>82.923333</td>\n",
              "    </tr>\n",
              "    <tr>\n",
              "      <th>std</th>\n",
              "      <td>1.700321</td>\n",
              "      <td>10.544576</td>\n",
              "    </tr>\n",
              "    <tr>\n",
              "      <th>min</th>\n",
              "      <td>14.000000</td>\n",
              "      <td>65.000000</td>\n",
              "    </tr>\n",
              "    <tr>\n",
              "      <th>25%</th>\n",
              "      <td>15.000000</td>\n",
              "      <td>73.750000</td>\n",
              "    </tr>\n",
              "    <tr>\n",
              "      <th>50%</th>\n",
              "      <td>16.000000</td>\n",
              "      <td>82.000000</td>\n",
              "    </tr>\n",
              "    <tr>\n",
              "      <th>75%</th>\n",
              "      <td>18.000000</td>\n",
              "      <td>92.000000</td>\n",
              "    </tr>\n",
              "    <tr>\n",
              "      <th>max</th>\n",
              "      <td>19.000000</td>\n",
              "      <td>100.000000</td>\n",
              "    </tr>\n",
              "  </tbody>\n",
              "</table>\n",
              "</div>"
            ],
            "text/plain": [
              "              age       grade\n",
              "count  300.000000  300.000000\n",
              "mean    16.456667   82.923333\n",
              "std      1.700321   10.544576\n",
              "min     14.000000   65.000000\n",
              "25%     15.000000   73.750000\n",
              "50%     16.000000   82.000000\n",
              "75%     18.000000   92.000000\n",
              "max     19.000000  100.000000"
            ]
          },
          "metadata": {
            "tags": []
          },
          "execution_count": 38
        }
      ]
    },
    {
      "cell_type": "markdown",
      "metadata": {
        "id": "mor6H3azvk5T"
      },
      "source": [
        "**Tarea: **Crear un dataframe: In the datasets/weekly_call_data folder, there are 104 files of weekly call\n",
        "data for two years. Your task is to try to load all of that data into one dataframe."
      ]
    },
    {
      "cell_type": "markdown",
      "metadata": {
        "id": "gqi1Rw9Hv7Hj"
      },
      "source": [
        "# **Creación de números aleatorios**"
      ]
    },
    {
      "cell_type": "code",
      "metadata": {
        "id": "9yocFH1nwBQY",
        "outputId": "b5bdaa2d-5e99-4316-8c5c-b59d208fc6fd",
        "colab": {
          "base_uri": "https://localhost:8080/",
          "height": 54
        }
      },
      "source": [
        "import pandas as pd\n",
        "from numpy import random\n",
        "from numpy.random import randint\n",
        "\n",
        "names = ['Bob','Jessica','Mary','John','Mel']\n",
        "\n",
        "random.seed(500)\n",
        "\n",
        "randnames = []\n",
        "for i in range(1000):\n",
        "    name = names[randint(low=0,high=len(names))]\n",
        "    randnames.append(name)\n",
        "print(randnames)"
      ],
      "execution_count": 48,
      "outputs": [
        {
          "output_type": "stream",
          "text": [
            "['Mary', 'Jessica', 'Jessica', 'Bob', 'Jessica', 'Jessica', 'Jessica', 'Mary', 'Mary', 'Mary', 'John', 'Bob', 'Bob', 'Mary', 'Mary', 'John', 'Mel', 'Mary', 'Mel', 'John', 'John', 'Mel', 'Jessica', 'John', 'Jessica', 'Mary', 'Mary', 'John', 'Jessica', 'Bob', 'John', 'Jessica', 'Jessica', 'John', 'Bob', 'Mel', 'Jessica', 'Mel', 'Mel', 'Mary', 'Jessica', 'Mel', 'Mel', 'Mel', 'Mel', 'Bob', 'John', 'Jessica', 'Jessica', 'Bob', 'John', 'John', 'Jessica', 'Bob', 'Bob', 'John', 'John', 'John', 'Mel', 'Bob', 'Mel', 'Mel', 'Jessica', 'Mary', 'John', 'John', 'Bob', 'John', 'Mary', 'Bob', 'John', 'Mel', 'John', 'John', 'Bob', 'Mary', 'Bob', 'Jessica', 'Mel', 'Jessica', 'Bob', 'Mel', 'Bob', 'John', 'Jessica', 'Jessica', 'John', 'Bob', 'Bob', 'John', 'Bob', 'Jessica', 'Mel', 'John', 'Jessica', 'Mel', 'Jessica', 'Jessica', 'Mary', 'Mel', 'John', 'Mary', 'John', 'Bob', 'Mary', 'Jessica', 'Jessica', 'Mary', 'Mary', 'Jessica', 'John', 'Mel', 'Jessica', 'Bob', 'Mel', 'Jessica', 'John', 'John', 'Mel', 'Jessica', 'Mel', 'Jessica', 'Bob', 'Mel', 'Jessica', 'Jessica', 'Bob', 'Bob', 'Mel', 'Mel', 'Mary', 'John', 'Mary', 'Mary', 'Jessica', 'Mary', 'Mary', 'John', 'Mel', 'John', 'John', 'Mel', 'Mel', 'John', 'Jessica', 'Mel', 'Mel', 'John', 'Jessica', 'Jessica', 'Mel', 'Mel', 'Mel', 'Bob', 'Jessica', 'John', 'Mel', 'Mary', 'Bob', 'Jessica', 'John', 'Bob', 'Mel', 'Mel', 'Bob', 'John', 'Jessica', 'Bob', 'Bob', 'John', 'Mary', 'John', 'Mel', 'Jessica', 'Mel', 'John', 'Bob', 'Mary', 'Mel', 'Mary', 'Mary', 'Jessica', 'Jessica', 'John', 'Mel', 'Mary', 'Mary', 'John', 'Mary', 'Mel', 'Mary', 'Bob', 'Mel', 'Bob', 'Mary', 'Mel', 'Mary', 'Mary', 'Mel', 'Mary', 'John', 'Bob', 'Mary', 'Bob', 'Mary', 'Mel', 'Mary', 'Jessica', 'Mary', 'John', 'Bob', 'Jessica', 'Mary', 'Bob', 'Mel', 'Mary', 'Bob', 'Jessica', 'Mel', 'Bob', 'Mary', 'Mel', 'Jessica', 'Bob', 'John', 'Jessica', 'Jessica', 'Bob', 'Jessica', 'Bob', 'John', 'Bob', 'Jessica', 'Bob', 'Mary', 'Mary', 'Mary', 'John', 'John', 'Mel', 'Mel', 'Mary', 'Bob', 'John', 'John', 'Jessica', 'Jessica', 'Mel', 'Mary', 'Jessica', 'John', 'John', 'Mel', 'Jessica', 'Jessica', 'John', 'Mary', 'John', 'Bob', 'John', 'Mel', 'Mary', 'Jessica', 'Mel', 'John', 'Bob', 'John', 'Bob', 'Mary', 'Mary', 'Bob', 'Bob', 'Mel', 'John', 'Bob', 'Mary', 'Mary', 'John', 'Bob', 'Jessica', 'John', 'Bob', 'Mary', 'Mary', 'Mary', 'Mary', 'Bob', 'John', 'Mary', 'Jessica', 'Jessica', 'Jessica', 'Bob', 'John', 'Jessica', 'Mel', 'John', 'Mary', 'Mel', 'Bob', 'Jessica', 'Jessica', 'Jessica', 'Jessica', 'Mary', 'Mary', 'Jessica', 'Mel', 'John', 'Mary', 'John', 'John', 'Mary', 'Mary', 'Mel', 'Mel', 'Mel', 'John', 'Jessica', 'Mel', 'Jessica', 'Jessica', 'Mary', 'Jessica', 'Bob', 'Mary', 'Mary', 'Jessica', 'Mary', 'Jessica', 'Mel', 'John', 'John', 'Mel', 'Mel', 'Bob', 'Mel', 'John', 'Mary', 'Bob', 'Mary', 'Jessica', 'Bob', 'Mary', 'Jessica', 'Mel', 'Bob', 'Mel', 'Bob', 'Jessica', 'Bob', 'Jessica', 'Bob', 'John', 'John', 'Bob', 'Mary', 'Mary', 'Mary', 'John', 'John', 'John', 'Bob', 'Mel', 'Mel', 'Mel', 'Mary', 'Mel', 'Mary', 'Mary', 'Bob', 'Mel', 'Mel', 'Mary', 'Jessica', 'Bob', 'Jessica', 'Bob', 'Mel', 'Mel', 'Mary', 'Jessica', 'Jessica', 'Bob', 'Bob', 'Mel', 'Jessica', 'John', 'Mary', 'Mel', 'Bob', 'John', 'Jessica', 'John', 'Bob', 'Mary', 'Bob', 'Mary', 'Mary', 'Mel', 'Bob', 'Bob', 'Mel', 'Mel', 'Mary', 'Mel', 'Bob', 'Bob', 'Mary', 'Mel', 'Jessica', 'John', 'John', 'Mel', 'Mary', 'Mary', 'Bob', 'Mel', 'Mary', 'Mel', 'Bob', 'Bob', 'Mel', 'Mary', 'John', 'Jessica', 'Bob', 'Mary', 'Bob', 'Mary', 'John', 'Jessica', 'Mel', 'Bob', 'Bob', 'John', 'Mel', 'Jessica', 'Jessica', 'Mel', 'John', 'Bob', 'Mel', 'Bob', 'Mary', 'Jessica', 'Mel', 'Jessica', 'Bob', 'John', 'Mel', 'Bob', 'Mary', 'Mary', 'Jessica', 'Mel', 'Bob', 'Mary', 'Mary', 'Bob', 'Jessica', 'Bob', 'Jessica', 'Bob', 'Mary', 'Jessica', 'Bob', 'Mary', 'Jessica', 'Mary', 'Mary', 'Jessica', 'John', 'Jessica', 'Jessica', 'Mary', 'Mary', 'Mary', 'John', 'Jessica', 'John', 'Mary', 'Jessica', 'Mel', 'Bob', 'Mel', 'John', 'Mel', 'Jessica', 'John', 'John', 'Jessica', 'Bob', 'Mary', 'Mel', 'Mel', 'Jessica', 'Bob', 'Jessica', 'Mel', 'Jessica', 'Bob', 'Jessica', 'Mel', 'Mary', 'Mel', 'Bob', 'Bob', 'John', 'Jessica', 'Mary', 'Bob', 'Mary', 'Bob', 'Mel', 'Mel', 'John', 'Mary', 'Mel', 'John', 'Mel', 'Mary', 'Jessica', 'Bob', 'Jessica', 'Mel', 'Jessica', 'John', 'Jessica', 'Mary', 'Mel', 'Bob', 'John', 'Mary', 'Mel', 'Jessica', 'John', 'Mel', 'Bob', 'Mel', 'Mel', 'Mel', 'Mel', 'Bob', 'Mel', 'Mary', 'Jessica', 'Jessica', 'Mary', 'Mel', 'Mel', 'John', 'Bob', 'Mary', 'John', 'Jessica', 'Bob', 'Jessica', 'Mary', 'Mary', 'Bob', 'Mary', 'Bob', 'Jessica', 'Mel', 'Bob', 'Mary', 'John', 'Jessica', 'Mel', 'Mary', 'Mel', 'Mary', 'Mary', 'Bob', 'Bob', 'Mary', 'Jessica', 'Bob', 'Bob', 'John', 'John', 'Bob', 'Mary', 'Jessica', 'Jessica', 'Mary', 'Mary', 'Mary', 'Bob', 'Mel', 'Bob', 'Mel', 'Bob', 'Mel', 'John', 'Jessica', 'Bob', 'Mary', 'John', 'Jessica', 'John', 'John', 'Mary', 'Jessica', 'Jessica', 'John', 'Jessica', 'Jessica', 'Mel', 'Mary', 'Bob', 'John', 'Bob', 'Mary', 'Mary', 'Bob', 'Mary', 'Jessica', 'Mel', 'John', 'John', 'Jessica', 'Bob', 'John', 'Mary', 'Jessica', 'John', 'Jessica', 'Bob', 'Jessica', 'Mel', 'Bob', 'Mary', 'Mel', 'Mary', 'Mary', 'Mel', 'Mel', 'Mel', 'John', 'John', 'Jessica', 'Mary', 'Bob', 'Jessica', 'John', 'Mary', 'John', 'Mel', 'Bob', 'Bob', 'Bob', 'Jessica', 'Jessica', 'Bob', 'Bob', 'John', 'John', 'Mel', 'Mel', 'Bob', 'Bob', 'Mary', 'Mel', 'John', 'Mary', 'Jessica', 'Jessica', 'Mary', 'Bob', 'John', 'Mel', 'Bob', 'John', 'Mel', 'Bob', 'Bob', 'Mary', 'John', 'Mel', 'Bob', 'Mel', 'Jessica', 'Mel', 'Mel', 'Mel', 'Mel', 'John', 'John', 'Mel', 'Jessica', 'Bob', 'Bob', 'John', 'John', 'Jessica', 'John', 'Jessica', 'Mary', 'Bob', 'John', 'Jessica', 'Mary', 'John', 'Jessica', 'Bob', 'Jessica', 'John', 'Mary', 'Mel', 'Bob', 'Mary', 'Bob', 'Bob', 'Bob', 'John', 'Mel', 'Mel', 'Jessica', 'Mel', 'John', 'Bob', 'Bob', 'Mary', 'John', 'Jessica', 'Bob', 'Bob', 'Bob', 'Bob', 'Bob', 'Mel', 'Bob', 'Mel', 'Jessica', 'Mel', 'John', 'Bob', 'Mel', 'Jessica', 'John', 'Jessica', 'Bob', 'Mel', 'Bob', 'Mary', 'Mary', 'John', 'Mel', 'John', 'Jessica', 'Bob', 'Mel', 'Jessica', 'Jessica', 'Jessica', 'Bob', 'Mel', 'Jessica', 'Jessica', 'Mary', 'John', 'Bob', 'John', 'John', 'Jessica', 'Bob', 'Mary', 'Bob', 'Mel', 'John', 'Bob', 'Mary', 'Mel', 'Jessica', 'Bob', 'Mel', 'John', 'Bob', 'Mary', 'Mel', 'Jessica', 'Jessica', 'Mary', 'Bob', 'John', 'Mel', 'John', 'Mary', 'Mary', 'Mel', 'Bob', 'Bob', 'Bob', 'Bob', 'Mel', 'Jessica', 'Jessica', 'Mel', 'Mel', 'Mel', 'Mel', 'John', 'Mary', 'Bob', 'John', 'John', 'Jessica', 'Bob', 'Bob', 'Mel', 'Mary', 'Jessica', 'John', 'Mary', 'Bob', 'Jessica', 'Mary', 'Bob', 'John', 'Mel', 'Mel', 'Mary', 'Jessica', 'Mel', 'Bob', 'Jessica', 'John', 'Mary', 'Bob', 'Mel', 'John', 'John', 'John', 'Jessica', 'John', 'John', 'Bob', 'Jessica', 'Bob', 'Mary', 'Mary', 'Mary', 'Bob', 'Jessica', 'Mel', 'Bob', 'Mary', 'John', 'John', 'John', 'Mary', 'Bob', 'Jessica', 'Bob', 'Bob', 'Jessica', 'Mary', 'Mary', 'Mel', 'Bob', 'John', 'Jessica', 'Mary', 'Mary', 'Jessica', 'Mary', 'Mel', 'Bob', 'Mary', 'Bob', 'John', 'John', 'John', 'Jessica', 'John', 'Bob', 'Jessica', 'John', 'John', 'Mel', 'Mary', 'Mary', 'Mary', 'Mary', 'Jessica', 'Mary', 'John', 'Mel', 'Mary', 'Mel', 'Jessica', 'Bob', 'Bob', 'John', 'Mary', 'Mary', 'Bob', 'Bob', 'Mel', 'Mary', 'Mel', 'John', 'John', 'Bob', 'John', 'John', 'Mel', 'Mel', 'John', 'John', 'Bob', 'John', 'Mel', 'Jessica', 'Mel', 'John', 'John', 'Mel', 'Bob', 'Jessica', 'Jessica', 'Mel', 'Jessica', 'Jessica', 'Mary', 'Mel', 'Mary', 'Mary', 'Mel', 'John', 'Mel', 'John', 'Mel', 'Mel', 'John', 'John', 'Jessica', 'Mary', 'John', 'Jessica', 'Jessica', 'John', 'Mel', 'Mary', 'Mary', 'Mel', 'Mary', 'Mel', 'Mel', 'Jessica', 'Mary', 'Mel', 'Bob', 'Mary', 'Jessica', 'Jessica', 'Mary', 'Bob', 'Bob', 'Bob', 'Bob', 'Bob', 'Bob', 'John', 'Mel', 'Mary', 'Mary', 'John', 'Jessica', 'Jessica', 'Jessica', 'Mel', 'Bob', 'John', 'Mary', 'Bob', 'John', 'Mel', 'Jessica', 'John', 'John', 'Mel', 'Mary', 'Mel', 'Mel', 'Jessica', 'John', 'Mel', 'Jessica', 'John', 'Bob', 'Mel', 'Jessica', 'John', 'Jessica', 'John', 'Jessica', 'John']\n"
          ],
          "name": "stdout"
        }
      ]
    },
    {
      "cell_type": "code",
      "metadata": {
        "id": "X6lLMVDOyq8c",
        "outputId": "f95799cc-8c88-4249-f5ed-b307f9ea0d8e",
        "colab": {
          "base_uri": "https://localhost:8080/",
          "height": 54
        }
      },
      "source": [
        "births = []\n",
        "for i in range(1000):\n",
        "  births.append(randint(low=0, high=1000)) \n",
        "print(births)"
      ],
      "execution_count": 49,
      "outputs": [
        {
          "output_type": "stream",
          "text": [
            "[968, 155, 77, 578, 973, 124, 155, 403, 199, 191, 769, 88, 43, 393, 164, 45, 148, 609, 134, 726, 106, 355, 774, 214, 732, 362, 682, 141, 433, 892, 328, 151, 737, 200, 626, 679, 812, 481, 723, 98, 76, 911, 948, 698, 539, 806, 885, 785, 750, 233, 442, 170, 363, 913, 186, 510, 998, 12, 804, 705, 900, 727, 643, 34, 580, 287, 382, 5, 204, 392, 982, 809, 62, 220, 458, 738, 502, 352, 956, 326, 791, 724, 414, 51, 295, 463, 922, 693, 353, 378, 836, 10, 279, 778, 10, 370, 739, 682, 469, 324, 612, 721, 410, 474, 294, 128, 622, 588, 708, 286, 740, 112, 128, 195, 458, 828, 576, 726, 744, 449, 814, 678, 327, 837, 904, 592, 923, 245, 476, 120, 656, 511, 398, 716, 657, 358, 510, 129, 944, 490, 811, 734, 371, 37, 900, 723, 274, 291, 309, 143, 277, 116, 11, 49, 809, 28, 407, 937, 781, 236, 925, 423, 927, 925, 648, 481, 160, 375, 494, 623, 221, 378, 951, 556, 185, 434, 340, 474, 189, 606, 606, 331, 666, 105, 182, 137, 543, 860, 701, 564, 903, 471, 350, 797, 945, 912, 992, 203, 93, 18, 787, 543, 599, 616, 290, 388, 541, 906, 239, 269, 621, 607, 336, 775, 242, 962, 51, 24, 124, 976, 973, 988, 722, 969, 785, 446, 480, 616, 221, 578, 143, 74, 21, 994, 178, 946, 622, 978, 982, 651, 729, 836, 762, 860, 928, 363, 594, 752, 328, 934, 636, 921, 591, 583, 587, 30, 378, 562, 814, 623, 169, 959, 99, 629, 223, 353, 157, 915, 351, 206, 292, 401, 296, 693, 556, 905, 931, 825, 936, 366, 618, 394, 901, 355, 204, 34, 785, 551, 937, 210, 163, 175, 82, 855, 29, 70, 308, 745, 628, 271, 506, 599, 317, 934, 626, 706, 615, 688, 794, 71, 569, 981, 567, 285, 958, 859, 495, 119, 562, 279, 424, 330, 595, 187, 327, 186, 827, 708, 349, 39, 114, 647, 858, 645, 491, 447, 43, 449, 843, 416, 624, 101, 710, 451, 725, 814, 88, 250, 853, 373, 868, 419, 244, 137, 169, 24, 693, 910, 685, 319, 915, 645, 305, 495, 35, 26, 293, 476, 676, 517, 428, 729, 326, 18, 38, 661, 474, 697, 718, 96, 864, 217, 894, 922, 454, 390, 609, 761, 490, 480, 278, 71, 369, 176, 155, 58, 286, 347, 876, 532, 659, 779, 460, 543, 156, 142, 675, 992, 678, 10, 143, 311, 118, 67, 321, 262, 632, 4, 22, 551, 181, 664, 239, 601, 495, 482, 3, 363, 355, 983, 281, 236, 63, 97, 385, 276, 425, 539, 818, 46, 341, 461, 657, 511, 459, 246, 529, 685, 933, 901, 246, 953, 324, 122, 320, 500, 652, 382, 819, 967, 778, 781, 991, 694, 784, 632, 329, 881, 887, 412, 870, 715, 971, 372, 241, 421, 363, 407, 50, 415, 349, 657, 496, 817, 330, 393, 302, 392, 851, 615, 72, 404, 668, 91, 405, 805, 211, 552, 973, 467, 554, 533, 866, 233, 890, 844, 67, 762, 610, 196, 433, 254, 638, 775, 984, 466, 306, 450, 158, 378, 345, 741, 440, 724, 637, 505, 922, 560, 540, 964, 988, 381, 483, 989, 42, 952, 658, 167, 654, 684, 403, 399, 576, 540, 498, 661, 802, 364, 491, 953, 785, 558, 210, 744, 50, 616, 476, 276, 290, 778, 921, 224, 791, 393, 721, 274, 671, 520, 283, 715, 521, 729, 223, 141, 670, 20, 488, 958, 348, 883, 592, 341, 753, 541, 463, 905, 93, 217, 147, 317, 369, 468, 99, 506, 92, 245, 658, 47, 72, 610, 23, 449, 561, 500, 442, 547, 169, 913, 795, 249, 484, 480, 926, 357, 270, 606, 487, 201, 331, 840, 196, 515, 677, 860, 396, 647, 634, 677, 762, 977, 36, 84, 52, 532, 980, 226, 72, 124, 659, 430, 749, 334, 850, 397, 579, 725, 695, 369, 318, 731, 329, 128, 282, 613, 785, 647, 513, 215, 227, 389, 561, 862, 783, 863, 330, 12, 160, 208, 117, 737, 912, 538, 696, 214, 618, 833, 570, 28, 279, 140, 586, 987, 108, 317, 455, 256, 817, 59, 92, 257, 582, 490, 702, 382, 257, 756, 927, 142, 177, 497, 514, 166, 625, 19, 373, 471, 506, 520, 781, 494, 441, 380, 723, 428, 172, 586, 568, 742, 940, 677, 926, 438, 642, 747, 266, 993, 726, 650, 530, 910, 246, 316, 175, 429, 490, 875, 260, 576, 696, 148, 914, 506, 703, 908, 921, 260, 61, 874, 159, 504, 756, 964, 355, 326, 494, 448, 997, 141, 704, 39, 347, 346, 185, 254, 73, 946, 955, 751, 950, 478, 911, 989, 642, 223, 166, 166, 699, 548, 796, 182, 871, 643, 682, 276, 883, 77, 2, 604, 918, 517, 694, 799, 32, 978, 574, 279, 400, 688, 805, 617, 153, 139, 119, 44, 718, 421, 350, 552, 297, 328, 904, 186, 876, 367, 683, 11, 886, 493, 730, 412, 485, 794, 888, 487, 335, 504, 895, 629, 587, 874, 983, 820, 481, 136, 164, 67, 353, 242, 647, 202, 98, 846, 522, 188, 53, 193, 338, 101, 795, 652, 321, 104, 961, 860, 70, 425, 633, 883, 687, 348, 452, 758, 432, 458, 923, 129, 790, 215, 784, 738, 840, 874, 991, 218, 819, 556, 987, 916, 304, 200, 494, 455, 637, 608, 939, 909, 142, 778, 194, 3, 40, 888, 403, 430, 114, 624, 148, 160, 411, 552, 569, 311, 978, 423, 790, 712, 738, 403, 686, 542, 152, 721, 96, 896, 496, 644, 121, 614, 357, 252, 429, 969, 1, 354, 107, 615, 591, 517, 671, 758, 991, 565, 113, 564, 787, 562, 210, 207, 689, 66, 894, 348, 219, 928, 956, 227, 129, 608, 475, 973, 931, 16, 137, 271, 201, 124, 821, 29, 656, 959, 311, 834, 407, 879, 341, 813, 545, 505, 310, 222, 572, 639, 566, 739, 78, 150, 463, 715, 118, 122, 276, 54, 32, 931, 38, 353, 610, 954, 38, 161, 691, 865, 326, 677, 706, 151, 511, 756, 294, 152]\n"
          ],
          "name": "stdout"
        }
      ]
    },
    {
      "cell_type": "code",
      "metadata": {
        "id": "p_dWyVHEy-cd",
        "outputId": "265adc9d-75a9-4337-c735-8ba27e7c8f84",
        "colab": {
          "base_uri": "https://localhost:8080/",
          "height": 402
        }
      },
      "source": [
        "BabyDataSet2 = list(zip(randnames,births))\n",
        "df = pd.DataFrame(data = BabyDataSet2, columns=['Names', 'Births'])\n",
        "df\n"
      ],
      "execution_count": 50,
      "outputs": [
        {
          "output_type": "execute_result",
          "data": {
            "text/html": [
              "<div>\n",
              "<style scoped>\n",
              "    .dataframe tbody tr th:only-of-type {\n",
              "        vertical-align: middle;\n",
              "    }\n",
              "\n",
              "    .dataframe tbody tr th {\n",
              "        vertical-align: top;\n",
              "    }\n",
              "\n",
              "    .dataframe thead th {\n",
              "        text-align: right;\n",
              "    }\n",
              "</style>\n",
              "<table border=\"1\" class=\"dataframe\">\n",
              "  <thead>\n",
              "    <tr style=\"text-align: right;\">\n",
              "      <th></th>\n",
              "      <th>Names</th>\n",
              "      <th>Births</th>\n",
              "    </tr>\n",
              "  </thead>\n",
              "  <tbody>\n",
              "    <tr>\n",
              "      <th>0</th>\n",
              "      <td>Mary</td>\n",
              "      <td>968</td>\n",
              "    </tr>\n",
              "    <tr>\n",
              "      <th>1</th>\n",
              "      <td>Jessica</td>\n",
              "      <td>155</td>\n",
              "    </tr>\n",
              "    <tr>\n",
              "      <th>2</th>\n",
              "      <td>Jessica</td>\n",
              "      <td>77</td>\n",
              "    </tr>\n",
              "    <tr>\n",
              "      <th>3</th>\n",
              "      <td>Bob</td>\n",
              "      <td>578</td>\n",
              "    </tr>\n",
              "    <tr>\n",
              "      <th>4</th>\n",
              "      <td>Jessica</td>\n",
              "      <td>973</td>\n",
              "    </tr>\n",
              "    <tr>\n",
              "      <th>...</th>\n",
              "      <td>...</td>\n",
              "      <td>...</td>\n",
              "    </tr>\n",
              "    <tr>\n",
              "      <th>995</th>\n",
              "      <td>John</td>\n",
              "      <td>151</td>\n",
              "    </tr>\n",
              "    <tr>\n",
              "      <th>996</th>\n",
              "      <td>Jessica</td>\n",
              "      <td>511</td>\n",
              "    </tr>\n",
              "    <tr>\n",
              "      <th>997</th>\n",
              "      <td>John</td>\n",
              "      <td>756</td>\n",
              "    </tr>\n",
              "    <tr>\n",
              "      <th>998</th>\n",
              "      <td>Jessica</td>\n",
              "      <td>294</td>\n",
              "    </tr>\n",
              "    <tr>\n",
              "      <th>999</th>\n",
              "      <td>John</td>\n",
              "      <td>152</td>\n",
              "    </tr>\n",
              "  </tbody>\n",
              "</table>\n",
              "<p>1000 rows × 2 columns</p>\n",
              "</div>"
            ],
            "text/plain": [
              "       Names  Births\n",
              "0       Mary     968\n",
              "1    Jessica     155\n",
              "2    Jessica      77\n",
              "3        Bob     578\n",
              "4    Jessica     973\n",
              "..       ...     ...\n",
              "995     John     151\n",
              "996  Jessica     511\n",
              "997     John     756\n",
              "998  Jessica     294\n",
              "999     John     152\n",
              "\n",
              "[1000 rows x 2 columns]"
            ]
          },
          "metadata": {
            "tags": []
          },
          "execution_count": 50
        }
      ]
    },
    {
      "cell_type": "markdown",
      "metadata": {
        "id": "DL0hKH_yzM7s"
      },
      "source": [
        "**TAREA: Create a dataframe called parkingtickets with 250 rows containing a\n",
        "name and a number between 1 and 25.**"
      ]
    }
  ]
}